{
  "nbformat": 4,
  "nbformat_minor": 0,
  "metadata": {
    "colab": {
      "name": "0509.ipynb",
      "provenance": [],
      "authorship_tag": "ABX9TyNK6n2hof52CsPuirHRt6D8",
      "include_colab_link": true
    },
    "kernelspec": {
      "name": "python3",
      "display_name": "Python 3"
    },
    "language_info": {
      "name": "python"
    }
  },
  "cells": [
    {
      "cell_type": "markdown",
      "metadata": {
        "id": "view-in-github",
        "colab_type": "text"
      },
      "source": [
        "<a href=\"https://colab.research.google.com/github/tku-tianlun/Introduction-to-Computers/blob/main/0509.ipynb\" target=\"_parent\"><img src=\"https://colab.research.google.com/assets/colab-badge.svg\" alt=\"Open In Colab\"/></a>"
      ]
    },
    {
      "cell_type": "code",
      "execution_count": 1,
      "metadata": {
        "colab": {
          "base_uri": "https://localhost:8080/"
        },
        "id": "Lnfa48th71g3",
        "outputId": "5f55c3a0-6b0e-4fa7-ee81-a75821ad606a"
      },
      "outputs": [
        {
          "output_type": "stream",
          "name": "stdout",
          "text": [
            "123\n"
          ]
        }
      ],
      "source": [
        "print(\"123\")"
      ]
    },
    {
      "cell_type": "code",
      "source": [
        "temp= float(input(\"請輸入你的體溫\"))\n",
        "if temp >= 37.5:\n",
        "   print(\"體溫過高! \")\n",
        "elif temp >= 37 and temp <37.4:\n",
        "   print(\"體溫略高! \")\n",
        "elif temp >= 34 and temp <=36.9:\n",
        "   print(\"體溫正常! \")\n",
        "\n",
        "else:\n",
        "  print(\"體溫異常,請重新量測! \")"
      ],
      "metadata": {
        "colab": {
          "base_uri": "https://localhost:8080/"
        },
        "id": "wfhLx48H8MP9",
        "outputId": "d5e1f524-c9d3-492c-99ee-83218ed5ee43"
      },
      "execution_count": 11,
      "outputs": [
        {
          "output_type": "stream",
          "name": "stdout",
          "text": [
            "請輸入你的體溫35\n",
            "體溫正常! \n"
          ]
        }
      ]
    },
    {
      "cell_type": "code",
      "source": [
        "score = input (\"請輸入成績\")\n",
        "if (int(score) >= 90):\n",
        "  print(\"A\")\n",
        "elif (int(score) >= 80):\n",
        "  print(\"B\")\n",
        "elif (int(score) >= 70):\n",
        "  print(\"C\")\n",
        "elif (int(score) >= 60):\n",
        "  print(\"D\")\n",
        "else:\n",
        "  print(\"E\")"
      ],
      "metadata": {
        "colab": {
          "base_uri": "https://localhost:8080/"
        },
        "id": "Qe3TuVUm_lyj",
        "outputId": "22ebeef2-b0b8-4aeb-fe45-18a2a7958316"
      },
      "execution_count": 21,
      "outputs": [
        {
          "output_type": "stream",
          "name": "stdout",
          "text": [
            "請輸入成績50\n",
            "E\n"
          ]
        }
      ]
    },
    {
      "cell_type": "code",
      "source": [
        "money = int(input(\"請輸入購物金額: \"))\n",
        "if (money >= 10000):\n",
        " if(money >= 100000):\n",
        "  print(\"八折\", money *0.8, end = \"元\\n\")\n",
        " elif (money >= 50000):\n",
        "  print(\"八五折\", money *0.85, end = \"元\\n\")\n",
        " elif (money >= 30000):\n",
        "  print(\"九折\", money *0.9, end = \"元\\n\")\n",
        " else:\n",
        "  print(\"九五折\", money *0.95, end = \"元\\n\" )\n",
        "\n",
        "else:\n",
        " print(\"沒打折\",money, end= \"元\\n\")"
      ],
      "metadata": {
        "colab": {
          "base_uri": "https://localhost:8080/"
        },
        "id": "QnZQR04kFHuz",
        "outputId": "212931fa-8abb-47ab-f11c-c39299e56748"
      },
      "execution_count": 26,
      "outputs": [
        {
          "output_type": "stream",
          "name": "stdout",
          "text": [
            "請輸入購物金額: 50000\n",
            "八五折 42500.0元\n"
          ]
        }
      ]
    },
    {
      "cell_type": "code",
      "source": [
        "month = int(input (\"請輸入月份:\"))\n",
        "if (3 <= month <= 5):\n",
        "  print(str(month) , \"月是春天!\") \n",
        "elif (6 <= month <= 8):\n",
        "  print(str(month) , \"月是夏天!\")\n",
        "elif (9 <= month <= 11):\n",
        "  print(str(month) , \"月是秋天!\" )\n",
        "elif (1 <= month <=2 ):\n",
        "  print(str(month) , \"月是冬天!\")\n",
        "elif (12 <= month <= 12):\n",
        "  print(str(month) , \"月是冬天!\")\n",
        "else:\n",
        "  print(\"月份不在範圍內!\")"
      ],
      "metadata": {
        "colab": {
          "base_uri": "https://localhost:8080/"
        },
        "id": "0YYi_xhpsUe1",
        "outputId": "585566bc-94a8-40f5-8c53-fe388f0419e9"
      },
      "execution_count": 51,
      "outputs": [
        {
          "output_type": "stream",
          "name": "stdout",
          "text": [
            "請輸入月份:12\n",
            "12 月是冬天!\n"
          ]
        }
      ]
    },
    {
      "cell_type": "code",
      "source": [
        "money = int(input(\"請輸入今年收入淨額:\"))\n",
        "if (money >= 300000):\n",
        " if(money >= 2000000):\n",
        "   print(\"付稅金額:\" , money * 0.3, end = \"元\")\n",
        " elif(money >= 1000000):\n",
        "   print(\"付稅金額:\" , money * 0.21, end = \"元\")\n",
        " elif(money >= 600000):\n",
        "   print(\"付稅金額:\", money * 0.13, end = \"元\")\n",
        " else:\n",
        "   print(\"付稅金額:\", money * 0.06 , end =\"元\")\n",
        "\n",
        "else:\n",
        " print(\"付稅金額:\" , money * 0 , end = \"元\")"
      ],
      "metadata": {
        "colab": {
          "base_uri": "https://localhost:8080/"
        },
        "id": "_Le42Meb1grV",
        "outputId": "4390c636-4b36-4eb3-b097-8e595f1d62b1"
      },
      "execution_count": 59,
      "outputs": [
        {
          "output_type": "stream",
          "name": "stdout",
          "text": [
            "請輸入今年收入淨額:2000000\n",
            "付稅金額: 600000.0元"
          ]
        }
      ]
    }
  ]
}